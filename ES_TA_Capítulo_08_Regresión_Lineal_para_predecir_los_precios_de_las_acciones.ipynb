{
  "nbformat": 4,
  "nbformat_minor": 5,
  "metadata": {
    "kernelspec": {
      "display_name": "Python 3",
      "language": "python",
      "name": "python3"
    },
    "language_info": {
      "codemirror_mode": {
        "name": "ipython",
        "version": 3
      },
      "file_extension": ".py",
      "mimetype": "text/x-python",
      "name": "python",
      "nbconvert_exporter": "python",
      "pygments_lexer": "ipython3",
      "version": "3.8.8"
    },
    "colab": {
      "name": "ES - TA Capítulo 08: Regresión Lineal para predecir los precios de las acciones.ipynb",
      "provenance": [],
      "collapsed_sections": [],
      "include_colab_link": true
    }
  },
  "cells": [
    {
      "cell_type": "markdown",
      "metadata": {
        "id": "view-in-github",
        "colab_type": "text"
      },
      "source": [
        "<a href=\"https://colab.research.google.com/github/joanby/trading-algoritmico-a-z-con-python/blob/main/ES_TA_Cap%C3%ADtulo_08_Regresi%C3%B3n_Lineal_para_predecir_los_precios_de_las_acciones.ipynb\" target=\"_parent\"><img src=\"https://colab.research.google.com/assets/colab-badge.svg\" alt=\"Open In Colab\"/></a>"
      ]
    },
    {
      "cell_type": "markdown",
      "metadata": {
        "id": "ce076564"
      },
      "source": [
        "<p><img alt=\"Colaboratory logo\" height=\"45px\" src=\"https://www.quantreo.com/wp-content/uploads/2021/10/Original-on-Transparent.png\" align=\"left\" hspace=\"10px\" vspace=\"0px\">\n",
        "<img alt=\"Colaboratory logo\" height=\"45px\" src=\"https://static-881c.kxcdn.com/wp-content/uploads/2016/03/frogamesLogoFull4.png\" align=\"left\" hspace=\"10px\" vspace=\"0px\"></p>\n",
        "\n",
        "\n",
        "# Regresión Lineal para predecir los precios de las acciones\n",
        "\n",
        "</br>\n",
        "\n",
        "En este capítulo, explicaremos cómo funciona teóricamente la regresión lineal. A continuación, aplicaremos este algoritmo para predecir el precio de las acciones y crear una estrategia de trading\n",
        "\n",
        "### Resumen\n",
        "* Cómo funciona teóricamente un algoritmo de Regresión Lineal\n",
        "* Predecir el precio de las acciones utilizando una regresión lineal\n",
        "* Crear una estrategia de trading \n",
        "\n",
        "</br>\n",
        "\n",
        "💰 Únete a la comunidad de [Discord](https://discord.gg/z3dx5XpkX4)\n",
        "\n",
        "📚 Puedes leer nuestro libro en [Amazon](https://www.amazon.es/Python-para-finanzas-trading-algor%C3%ADtmico-ebook/dp/B0BT4ZS9Q3/)\n",
        "\n",
        "🖥️ El canal de [YouTube de Quantreo's](https://www.youtube.com/channel/UCp7jckfiEglNf_Gj62VR0pw) (en inglés) y el de [Frogames](https://www.youtube.com/channel/UCMUxXNYrVCv6-bQakhomvBg) en español\n",
        "\n",
        "\n"
      ],
      "id": "ce076564"
    },
    {
      "cell_type": "code",
      "metadata": {
        "colab": {
          "base_uri": "https://localhost:8080/"
        },
        "id": "96gJhLVz-9dw",
        "outputId": "510f2015-54f6-49c0-a0df-725cb867af5c"
      },
      "source": [
        "! pip install yfinance\n",
        "! pip install ta"
      ],
      "id": "96gJhLVz-9dw",
      "execution_count": 1,
      "outputs": [
        {
          "output_type": "stream",
          "name": "stdout",
          "text": [
            "Looking in indexes: https://pypi.org/simple, https://us-python.pkg.dev/colab-wheels/public/simple/\n",
            "Collecting yfinance\n",
            "  Downloading yfinance-0.1.72-py2.py3-none-any.whl (27 kB)\n",
            "Requirement already satisfied: pandas>=0.24.0 in /usr/local/lib/python3.7/dist-packages (from yfinance) (1.3.5)\n",
            "Collecting lxml>=4.5.1\n",
            "  Downloading lxml-4.9.0-cp37-cp37m-manylinux_2_17_x86_64.manylinux2014_x86_64.manylinux_2_24_x86_64.whl (6.4 MB)\n",
            "\u001b[K     |████████████████████████████████| 6.4 MB 9.9 MB/s \n",
            "\u001b[?25hRequirement already satisfied: multitasking>=0.0.7 in /usr/local/lib/python3.7/dist-packages (from yfinance) (0.0.10)\n",
            "Requirement already satisfied: numpy>=1.15 in /usr/local/lib/python3.7/dist-packages (from yfinance) (1.21.6)\n",
            "Collecting requests>=2.26\n",
            "  Downloading requests-2.28.0-py3-none-any.whl (62 kB)\n",
            "\u001b[K     |████████████████████████████████| 62 kB 1.3 MB/s \n",
            "\u001b[?25hRequirement already satisfied: pytz>=2017.3 in /usr/local/lib/python3.7/dist-packages (from pandas>=0.24.0->yfinance) (2022.1)\n",
            "Requirement already satisfied: python-dateutil>=2.7.3 in /usr/local/lib/python3.7/dist-packages (from pandas>=0.24.0->yfinance) (2.8.2)\n",
            "Requirement already satisfied: six>=1.5 in /usr/local/lib/python3.7/dist-packages (from python-dateutil>=2.7.3->pandas>=0.24.0->yfinance) (1.15.0)\n",
            "Requirement already satisfied: certifi>=2017.4.17 in /usr/local/lib/python3.7/dist-packages (from requests>=2.26->yfinance) (2022.6.15)\n",
            "Requirement already satisfied: idna<4,>=2.5 in /usr/local/lib/python3.7/dist-packages (from requests>=2.26->yfinance) (2.10)\n",
            "Requirement already satisfied: charset-normalizer~=2.0.0 in /usr/local/lib/python3.7/dist-packages (from requests>=2.26->yfinance) (2.0.12)\n",
            "Requirement already satisfied: urllib3<1.27,>=1.21.1 in /usr/local/lib/python3.7/dist-packages (from requests>=2.26->yfinance) (1.24.3)\n",
            "Installing collected packages: requests, lxml, yfinance\n",
            "  Attempting uninstall: requests\n",
            "    Found existing installation: requests 2.23.0\n",
            "    Uninstalling requests-2.23.0:\n",
            "      Successfully uninstalled requests-2.23.0\n",
            "  Attempting uninstall: lxml\n",
            "    Found existing installation: lxml 4.2.6\n",
            "    Uninstalling lxml-4.2.6:\n",
            "      Successfully uninstalled lxml-4.2.6\n",
            "\u001b[31mERROR: pip's dependency resolver does not currently take into account all the packages that are installed. This behaviour is the source of the following dependency conflicts.\n",
            "google-colab 1.0.0 requires requests~=2.23.0, but you have requests 2.28.0 which is incompatible.\n",
            "datascience 0.10.6 requires folium==0.2.1, but you have folium 0.8.3 which is incompatible.\u001b[0m\n",
            "Successfully installed lxml-4.9.0 requests-2.28.0 yfinance-0.1.72\n",
            "Looking in indexes: https://pypi.org/simple, https://us-python.pkg.dev/colab-wheels/public/simple/\n",
            "Collecting ta\n",
            "  Downloading ta-0.10.1.tar.gz (24 kB)\n",
            "Requirement already satisfied: numpy in /usr/local/lib/python3.7/dist-packages (from ta) (1.21.6)\n",
            "Requirement already satisfied: pandas in /usr/local/lib/python3.7/dist-packages (from ta) (1.3.5)\n",
            "Requirement already satisfied: pytz>=2017.3 in /usr/local/lib/python3.7/dist-packages (from pandas->ta) (2022.1)\n",
            "Requirement already satisfied: python-dateutil>=2.7.3 in /usr/local/lib/python3.7/dist-packages (from pandas->ta) (2.8.2)\n",
            "Requirement already satisfied: six>=1.5 in /usr/local/lib/python3.7/dist-packages (from python-dateutil>=2.7.3->pandas->ta) (1.15.0)\n",
            "Building wheels for collected packages: ta\n",
            "  Building wheel for ta (setup.py) ... \u001b[?25l\u001b[?25hdone\n",
            "  Created wheel for ta: filename=ta-0.10.1-py3-none-any.whl size=28985 sha256=ac7c926a9f80f9074f9b7c45d372e9473113577544e17bfac76c6d97abac90ec\n",
            "  Stored in directory: /root/.cache/pip/wheels/bc/2a/c2/a56e77d07edc16a1fa7fb012667e55cb0643cfa65996bddecc\n",
            "Successfully built ta\n",
            "Installing collected packages: ta\n",
            "Successfully installed ta-0.10.1\n"
          ]
        }
      ]
    },
    {
      "cell_type": "code",
      "metadata": {
        "id": "e6e42806"
      },
      "source": [
        "import numpy as np\n",
        "import pandas as pd\n",
        "import matplotlib.pyplot as plt\n",
        "plt.style.use('seaborn')\n",
        "import warnings\n",
        "warnings.filterwarnings(\"ignore\")\n",
        "import yfinance as yf\n",
        "import ta"
      ],
      "id": "e6e42806",
      "execution_count": 2,
      "outputs": []
    },
    {
      "cell_type": "code",
      "metadata": {
        "id": "QBqF1ghUdcTl"
      },
      "source": [
        "import matplotlib as mpl\n",
        "from matplotlib import cycler\n",
        "\n",
        "colors = cycler('color',\n",
        "                ['#669FEE', '#66EE91', '#9988DD',\n",
        "                 '#EECC55', '#88BB44', '#FFBBBB'])\n",
        "plt.rc('figure', facecolor='#313233')\n",
        "plt.rc('axes', facecolor=\"#313233\", edgecolor='none',\n",
        "       axisbelow=True, grid=True, prop_cycle=colors,\n",
        "       labelcolor='gray')\n",
        "plt.rc('grid', color='474A4A', linestyle='solid')\n",
        "plt.rc('xtick', color='gray')\n",
        "plt.rc('ytick', direction='out', color='gray')\n",
        "plt.rc('legend', facecolor=\"#313233\", edgecolor=\"#313233\")\n",
        "plt.rc(\"text\", color=\"#C9C9C9\")\n",
        "plt.rc('figure', facecolor='#313233')"
      ],
      "id": "QBqF1ghUdcTl",
      "execution_count": 3,
      "outputs": []
    },
    {
      "cell_type": "markdown",
      "metadata": {
        "id": "0f5a9e7a"
      },
      "source": [
        "# Cómo funciona teóricamente un algoritmo de Regresión Lineal\n",
        "Mira el vídeo y el PDF adjunto."
      ],
      "id": "0f5a9e7a"
    },
    {
      "cell_type": "markdown",
      "metadata": {
        "id": "fedb3480"
      },
      "source": [
        "# Predecir el precio de las acciones utilizando una regresión lineal\n"
      ],
      "id": "fedb3480"
    },
    {
      "cell_type": "markdown",
      "metadata": {
        "id": "2af6dea6"
      },
      "source": [
        "### Importar los datos de Yahoo (esiest choice)\n",
        "\n",
        "**IMPORTANTE**: Puedes importar los datos desde Yahoo o desde MT5. Pero necesitas tener un dispositivo Windows para usar MT5. ¡Para evitar este problema, puedes ver el vídeo de introducción del capítulo MetaTrader 5 Live Trading! "
      ],
      "id": "2af6dea6"
    },
    {
      "cell_type": "code",
      "metadata": {
        "colab": {
          "base_uri": "https://localhost:8080/",
          "height": 473
        },
        "id": "52084a45",
        "outputId": "8a338ddc-c4f0-4146-afb8-4ec0503fd235"
      },
      "source": [
        "# Importar los datos\n",
        "df = yf.download(\"GOOG\")\n",
        "\n",
        "# Nos quedamos con el cierre ajustado\n",
        "df = df[[\"Adj Close\"]]\n",
        "\n",
        "# Renombra la columna\n",
        "df.columns = [\"close\"]\n",
        "df"
      ],
      "id": "52084a45",
      "execution_count": 4,
      "outputs": [
        {
          "output_type": "stream",
          "name": "stdout",
          "text": [
            "\r[*********************100%***********************]  1 of 1 completed\n"
          ]
        },
        {
          "output_type": "execute_result",
          "data": {
            "text/plain": [
              "                  close\n",
              "Date                   \n",
              "2004-08-19    49.982655\n",
              "2004-08-20    53.952770\n",
              "2004-08-23    54.495735\n",
              "2004-08-24    52.239197\n",
              "2004-08-25    52.802086\n",
              "...                 ...\n",
              "2022-06-14  2143.879883\n",
              "2022-06-15  2207.810059\n",
              "2022-06-16  2132.719971\n",
              "2022-06-17  2157.310059\n",
              "2022-06-21  2240.300049\n",
              "\n",
              "[4491 rows x 1 columns]"
            ],
            "text/html": [
              "\n",
              "  <div id=\"df-f54edbc1-d5bd-45d0-be70-1e76a9d40c26\">\n",
              "    <div class=\"colab-df-container\">\n",
              "      <div>\n",
              "<style scoped>\n",
              "    .dataframe tbody tr th:only-of-type {\n",
              "        vertical-align: middle;\n",
              "    }\n",
              "\n",
              "    .dataframe tbody tr th {\n",
              "        vertical-align: top;\n",
              "    }\n",
              "\n",
              "    .dataframe thead th {\n",
              "        text-align: right;\n",
              "    }\n",
              "</style>\n",
              "<table border=\"1\" class=\"dataframe\">\n",
              "  <thead>\n",
              "    <tr style=\"text-align: right;\">\n",
              "      <th></th>\n",
              "      <th>close</th>\n",
              "    </tr>\n",
              "    <tr>\n",
              "      <th>Date</th>\n",
              "      <th></th>\n",
              "    </tr>\n",
              "  </thead>\n",
              "  <tbody>\n",
              "    <tr>\n",
              "      <th>2004-08-19</th>\n",
              "      <td>49.982655</td>\n",
              "    </tr>\n",
              "    <tr>\n",
              "      <th>2004-08-20</th>\n",
              "      <td>53.952770</td>\n",
              "    </tr>\n",
              "    <tr>\n",
              "      <th>2004-08-23</th>\n",
              "      <td>54.495735</td>\n",
              "    </tr>\n",
              "    <tr>\n",
              "      <th>2004-08-24</th>\n",
              "      <td>52.239197</td>\n",
              "    </tr>\n",
              "    <tr>\n",
              "      <th>2004-08-25</th>\n",
              "      <td>52.802086</td>\n",
              "    </tr>\n",
              "    <tr>\n",
              "      <th>...</th>\n",
              "      <td>...</td>\n",
              "    </tr>\n",
              "    <tr>\n",
              "      <th>2022-06-14</th>\n",
              "      <td>2143.879883</td>\n",
              "    </tr>\n",
              "    <tr>\n",
              "      <th>2022-06-15</th>\n",
              "      <td>2207.810059</td>\n",
              "    </tr>\n",
              "    <tr>\n",
              "      <th>2022-06-16</th>\n",
              "      <td>2132.719971</td>\n",
              "    </tr>\n",
              "    <tr>\n",
              "      <th>2022-06-17</th>\n",
              "      <td>2157.310059</td>\n",
              "    </tr>\n",
              "    <tr>\n",
              "      <th>2022-06-21</th>\n",
              "      <td>2240.300049</td>\n",
              "    </tr>\n",
              "  </tbody>\n",
              "</table>\n",
              "<p>4491 rows × 1 columns</p>\n",
              "</div>\n",
              "      <button class=\"colab-df-convert\" onclick=\"convertToInteractive('df-f54edbc1-d5bd-45d0-be70-1e76a9d40c26')\"\n",
              "              title=\"Convert this dataframe to an interactive table.\"\n",
              "              style=\"display:none;\">\n",
              "        \n",
              "  <svg xmlns=\"http://www.w3.org/2000/svg\" height=\"24px\"viewBox=\"0 0 24 24\"\n",
              "       width=\"24px\">\n",
              "    <path d=\"M0 0h24v24H0V0z\" fill=\"none\"/>\n",
              "    <path d=\"M18.56 5.44l.94 2.06.94-2.06 2.06-.94-2.06-.94-.94-2.06-.94 2.06-2.06.94zm-11 1L8.5 8.5l.94-2.06 2.06-.94-2.06-.94L8.5 2.5l-.94 2.06-2.06.94zm10 10l.94 2.06.94-2.06 2.06-.94-2.06-.94-.94-2.06-.94 2.06-2.06.94z\"/><path d=\"M17.41 7.96l-1.37-1.37c-.4-.4-.92-.59-1.43-.59-.52 0-1.04.2-1.43.59L10.3 9.45l-7.72 7.72c-.78.78-.78 2.05 0 2.83L4 21.41c.39.39.9.59 1.41.59.51 0 1.02-.2 1.41-.59l7.78-7.78 2.81-2.81c.8-.78.8-2.07 0-2.86zM5.41 20L4 18.59l7.72-7.72 1.47 1.35L5.41 20z\"/>\n",
              "  </svg>\n",
              "      </button>\n",
              "      \n",
              "  <style>\n",
              "    .colab-df-container {\n",
              "      display:flex;\n",
              "      flex-wrap:wrap;\n",
              "      gap: 12px;\n",
              "    }\n",
              "\n",
              "    .colab-df-convert {\n",
              "      background-color: #E8F0FE;\n",
              "      border: none;\n",
              "      border-radius: 50%;\n",
              "      cursor: pointer;\n",
              "      display: none;\n",
              "      fill: #1967D2;\n",
              "      height: 32px;\n",
              "      padding: 0 0 0 0;\n",
              "      width: 32px;\n",
              "    }\n",
              "\n",
              "    .colab-df-convert:hover {\n",
              "      background-color: #E2EBFA;\n",
              "      box-shadow: 0px 1px 2px rgba(60, 64, 67, 0.3), 0px 1px 3px 1px rgba(60, 64, 67, 0.15);\n",
              "      fill: #174EA6;\n",
              "    }\n",
              "\n",
              "    [theme=dark] .colab-df-convert {\n",
              "      background-color: #3B4455;\n",
              "      fill: #D2E3FC;\n",
              "    }\n",
              "\n",
              "    [theme=dark] .colab-df-convert:hover {\n",
              "      background-color: #434B5C;\n",
              "      box-shadow: 0px 1px 3px 1px rgba(0, 0, 0, 0.15);\n",
              "      filter: drop-shadow(0px 1px 2px rgba(0, 0, 0, 0.3));\n",
              "      fill: #FFFFFF;\n",
              "    }\n",
              "  </style>\n",
              "\n",
              "      <script>\n",
              "        const buttonEl =\n",
              "          document.querySelector('#df-f54edbc1-d5bd-45d0-be70-1e76a9d40c26 button.colab-df-convert');\n",
              "        buttonEl.style.display =\n",
              "          google.colab.kernel.accessAllowed ? 'block' : 'none';\n",
              "\n",
              "        async function convertToInteractive(key) {\n",
              "          const element = document.querySelector('#df-f54edbc1-d5bd-45d0-be70-1e76a9d40c26');\n",
              "          const dataTable =\n",
              "            await google.colab.kernel.invokeFunction('convertToInteractive',\n",
              "                                                     [key], {});\n",
              "          if (!dataTable) return;\n",
              "\n",
              "          const docLinkHtml = 'Like what you see? Visit the ' +\n",
              "            '<a target=\"_blank\" href=https://colab.research.google.com/notebooks/data_table.ipynb>data table notebook</a>'\n",
              "            + ' to learn more about interactive tables.';\n",
              "          element.innerHTML = '';\n",
              "          dataTable['output_type'] = 'display_data';\n",
              "          await google.colab.output.renderOutput(dataTable, element);\n",
              "          const docLink = document.createElement('div');\n",
              "          docLink.innerHTML = docLinkHtml;\n",
              "          element.appendChild(docLink);\n",
              "        }\n",
              "      </script>\n",
              "    </div>\n",
              "  </div>\n",
              "  "
            ]
          },
          "metadata": {},
          "execution_count": 4
        }
      ]
    },
    {
      "cell_type": "markdown",
      "metadata": {
        "id": "3c4388f9"
      },
      "source": [
        "### Ingeniería de Características\n",
        "\n"
      ],
      "id": "3c4388f9"
    },
    {
      "cell_type": "code",
      "metadata": {
        "id": "5daca6ac"
      },
      "source": [
        "def feature_engineering(df):\n",
        "    \"\"\" Crear nuevas variables\"\"\"\n",
        "    \n",
        "    # Copiamos el dataframe para evitar interferencias en los datos\n",
        "    df_copy = df.dropna().copy()\n",
        "    \n",
        "    # Crear el retorno\n",
        "    df_copy[\"returns\"] = df_copy[\"close\"].pct_change(1)\n",
        "\n",
        "    # Crear las SMAs\n",
        "    df_copy[\"SMA 15\"] = df_copy[[\"close\"]].rolling(15).mean().shift(1)\n",
        "    df_copy[\"SMA 60\"] = df_copy[[\"close\"]].rolling(60).mean().shift(1)\n",
        "    \n",
        "    # Crear las volatilidades\n",
        "    df_copy[\"MSD 10\"] = df_copy[[\"returns\"]].rolling(10).std().shift(1)\n",
        "    df_copy[\"MSD 30\"] = df_copy[[\"returns\"]].rolling(30).std().shift(1)\n",
        "    \n",
        "    # Crear el RSI\n",
        "    RSI = ta.momentum.RSIIndicator(df_copy[\"close\"], window= 14, fillna = False)\n",
        "    df_copy[\"rsi\"] = RSI.rsi()\n",
        "    \n",
        "    return df_copy.dropna()"
      ],
      "id": "5daca6ac",
      "execution_count": 5,
      "outputs": []
    },
    {
      "cell_type": "code",
      "metadata": {
        "colab": {
          "base_uri": "https://localhost:8080/",
          "height": 455
        },
        "id": "mvHxIPyjjt0h",
        "outputId": "a1bdadcd-c67b-4269-ad4c-3c11f653db1e"
      },
      "source": [
        "dfc = feature_engineering(df)\n",
        "dfc"
      ],
      "id": "mvHxIPyjjt0h",
      "execution_count": 6,
      "outputs": [
        {
          "output_type": "execute_result",
          "data": {
            "text/plain": [
              "                  close   returns       SMA 15       SMA 60    MSD 10  \\\n",
              "Date                                                                    \n",
              "2004-11-12    90.660187 -0.005573    91.001902    67.843456  0.045158   \n",
              "2004-11-15    92.089828  0.015769    91.319711    68.521415  0.045046   \n",
              "2004-11-16    85.947845 -0.066696    91.235693    69.157033  0.044225   \n",
              "2004-11-17    85.927917 -0.000232    90.928179    69.681234  0.048354   \n",
              "2004-11-18    83.457184 -0.028754    90.480856    70.242713  0.048425   \n",
              "...                 ...       ...          ...          ...       ...   \n",
              "2022-06-14  2143.879883  0.002971  2252.950684  2463.279838  0.023643   \n",
              "2022-06-15  2207.810059  0.029820  2246.987337  2453.410669  0.023166   \n",
              "2022-06-16  2132.719971 -0.034011  2252.940007  2444.714669  0.025773   \n",
              "2022-06-17  2157.310059  0.011530  2254.002002  2433.500834  0.024281   \n",
              "2022-06-21  2240.300049  0.038469  2253.428011  2423.288167  0.024267   \n",
              "\n",
              "              MSD 30        rsi  \n",
              "Date                             \n",
              "2004-11-12  0.045223  60.962971  \n",
              "2004-11-15  0.045295  62.484309  \n",
              "2004-11-16  0.045283  52.938988  \n",
              "2004-11-17  0.047390  52.910746  \n",
              "2004-11-18  0.047302  49.392430  \n",
              "...              ...        ...  \n",
              "2022-06-14  0.025323  37.977281  \n",
              "2022-06-15  0.025028  43.980304  \n",
              "2022-06-16  0.025653  39.183187  \n",
              "2022-06-17  0.025173  41.435949  \n",
              "2022-06-21  0.023956  48.384894  \n",
              "\n",
              "[4431 rows x 7 columns]"
            ],
            "text/html": [
              "\n",
              "  <div id=\"df-0f274db6-d5b7-4df9-a9ac-cb3555719385\">\n",
              "    <div class=\"colab-df-container\">\n",
              "      <div>\n",
              "<style scoped>\n",
              "    .dataframe tbody tr th:only-of-type {\n",
              "        vertical-align: middle;\n",
              "    }\n",
              "\n",
              "    .dataframe tbody tr th {\n",
              "        vertical-align: top;\n",
              "    }\n",
              "\n",
              "    .dataframe thead th {\n",
              "        text-align: right;\n",
              "    }\n",
              "</style>\n",
              "<table border=\"1\" class=\"dataframe\">\n",
              "  <thead>\n",
              "    <tr style=\"text-align: right;\">\n",
              "      <th></th>\n",
              "      <th>close</th>\n",
              "      <th>returns</th>\n",
              "      <th>SMA 15</th>\n",
              "      <th>SMA 60</th>\n",
              "      <th>MSD 10</th>\n",
              "      <th>MSD 30</th>\n",
              "      <th>rsi</th>\n",
              "    </tr>\n",
              "    <tr>\n",
              "      <th>Date</th>\n",
              "      <th></th>\n",
              "      <th></th>\n",
              "      <th></th>\n",
              "      <th></th>\n",
              "      <th></th>\n",
              "      <th></th>\n",
              "      <th></th>\n",
              "    </tr>\n",
              "  </thead>\n",
              "  <tbody>\n",
              "    <tr>\n",
              "      <th>2004-11-12</th>\n",
              "      <td>90.660187</td>\n",
              "      <td>-0.005573</td>\n",
              "      <td>91.001902</td>\n",
              "      <td>67.843456</td>\n",
              "      <td>0.045158</td>\n",
              "      <td>0.045223</td>\n",
              "      <td>60.962971</td>\n",
              "    </tr>\n",
              "    <tr>\n",
              "      <th>2004-11-15</th>\n",
              "      <td>92.089828</td>\n",
              "      <td>0.015769</td>\n",
              "      <td>91.319711</td>\n",
              "      <td>68.521415</td>\n",
              "      <td>0.045046</td>\n",
              "      <td>0.045295</td>\n",
              "      <td>62.484309</td>\n",
              "    </tr>\n",
              "    <tr>\n",
              "      <th>2004-11-16</th>\n",
              "      <td>85.947845</td>\n",
              "      <td>-0.066696</td>\n",
              "      <td>91.235693</td>\n",
              "      <td>69.157033</td>\n",
              "      <td>0.044225</td>\n",
              "      <td>0.045283</td>\n",
              "      <td>52.938988</td>\n",
              "    </tr>\n",
              "    <tr>\n",
              "      <th>2004-11-17</th>\n",
              "      <td>85.927917</td>\n",
              "      <td>-0.000232</td>\n",
              "      <td>90.928179</td>\n",
              "      <td>69.681234</td>\n",
              "      <td>0.048354</td>\n",
              "      <td>0.047390</td>\n",
              "      <td>52.910746</td>\n",
              "    </tr>\n",
              "    <tr>\n",
              "      <th>2004-11-18</th>\n",
              "      <td>83.457184</td>\n",
              "      <td>-0.028754</td>\n",
              "      <td>90.480856</td>\n",
              "      <td>70.242713</td>\n",
              "      <td>0.048425</td>\n",
              "      <td>0.047302</td>\n",
              "      <td>49.392430</td>\n",
              "    </tr>\n",
              "    <tr>\n",
              "      <th>...</th>\n",
              "      <td>...</td>\n",
              "      <td>...</td>\n",
              "      <td>...</td>\n",
              "      <td>...</td>\n",
              "      <td>...</td>\n",
              "      <td>...</td>\n",
              "      <td>...</td>\n",
              "    </tr>\n",
              "    <tr>\n",
              "      <th>2022-06-14</th>\n",
              "      <td>2143.879883</td>\n",
              "      <td>0.002971</td>\n",
              "      <td>2252.950684</td>\n",
              "      <td>2463.279838</td>\n",
              "      <td>0.023643</td>\n",
              "      <td>0.025323</td>\n",
              "      <td>37.977281</td>\n",
              "    </tr>\n",
              "    <tr>\n",
              "      <th>2022-06-15</th>\n",
              "      <td>2207.810059</td>\n",
              "      <td>0.029820</td>\n",
              "      <td>2246.987337</td>\n",
              "      <td>2453.410669</td>\n",
              "      <td>0.023166</td>\n",
              "      <td>0.025028</td>\n",
              "      <td>43.980304</td>\n",
              "    </tr>\n",
              "    <tr>\n",
              "      <th>2022-06-16</th>\n",
              "      <td>2132.719971</td>\n",
              "      <td>-0.034011</td>\n",
              "      <td>2252.940007</td>\n",
              "      <td>2444.714669</td>\n",
              "      <td>0.025773</td>\n",
              "      <td>0.025653</td>\n",
              "      <td>39.183187</td>\n",
              "    </tr>\n",
              "    <tr>\n",
              "      <th>2022-06-17</th>\n",
              "      <td>2157.310059</td>\n",
              "      <td>0.011530</td>\n",
              "      <td>2254.002002</td>\n",
              "      <td>2433.500834</td>\n",
              "      <td>0.024281</td>\n",
              "      <td>0.025173</td>\n",
              "      <td>41.435949</td>\n",
              "    </tr>\n",
              "    <tr>\n",
              "      <th>2022-06-21</th>\n",
              "      <td>2240.300049</td>\n",
              "      <td>0.038469</td>\n",
              "      <td>2253.428011</td>\n",
              "      <td>2423.288167</td>\n",
              "      <td>0.024267</td>\n",
              "      <td>0.023956</td>\n",
              "      <td>48.384894</td>\n",
              "    </tr>\n",
              "  </tbody>\n",
              "</table>\n",
              "<p>4431 rows × 7 columns</p>\n",
              "</div>\n",
              "      <button class=\"colab-df-convert\" onclick=\"convertToInteractive('df-0f274db6-d5b7-4df9-a9ac-cb3555719385')\"\n",
              "              title=\"Convert this dataframe to an interactive table.\"\n",
              "              style=\"display:none;\">\n",
              "        \n",
              "  <svg xmlns=\"http://www.w3.org/2000/svg\" height=\"24px\"viewBox=\"0 0 24 24\"\n",
              "       width=\"24px\">\n",
              "    <path d=\"M0 0h24v24H0V0z\" fill=\"none\"/>\n",
              "    <path d=\"M18.56 5.44l.94 2.06.94-2.06 2.06-.94-2.06-.94-.94-2.06-.94 2.06-2.06.94zm-11 1L8.5 8.5l.94-2.06 2.06-.94-2.06-.94L8.5 2.5l-.94 2.06-2.06.94zm10 10l.94 2.06.94-2.06 2.06-.94-2.06-.94-.94-2.06-.94 2.06-2.06.94z\"/><path d=\"M17.41 7.96l-1.37-1.37c-.4-.4-.92-.59-1.43-.59-.52 0-1.04.2-1.43.59L10.3 9.45l-7.72 7.72c-.78.78-.78 2.05 0 2.83L4 21.41c.39.39.9.59 1.41.59.51 0 1.02-.2 1.41-.59l7.78-7.78 2.81-2.81c.8-.78.8-2.07 0-2.86zM5.41 20L4 18.59l7.72-7.72 1.47 1.35L5.41 20z\"/>\n",
              "  </svg>\n",
              "      </button>\n",
              "      \n",
              "  <style>\n",
              "    .colab-df-container {\n",
              "      display:flex;\n",
              "      flex-wrap:wrap;\n",
              "      gap: 12px;\n",
              "    }\n",
              "\n",
              "    .colab-df-convert {\n",
              "      background-color: #E8F0FE;\n",
              "      border: none;\n",
              "      border-radius: 50%;\n",
              "      cursor: pointer;\n",
              "      display: none;\n",
              "      fill: #1967D2;\n",
              "      height: 32px;\n",
              "      padding: 0 0 0 0;\n",
              "      width: 32px;\n",
              "    }\n",
              "\n",
              "    .colab-df-convert:hover {\n",
              "      background-color: #E2EBFA;\n",
              "      box-shadow: 0px 1px 2px rgba(60, 64, 67, 0.3), 0px 1px 3px 1px rgba(60, 64, 67, 0.15);\n",
              "      fill: #174EA6;\n",
              "    }\n",
              "\n",
              "    [theme=dark] .colab-df-convert {\n",
              "      background-color: #3B4455;\n",
              "      fill: #D2E3FC;\n",
              "    }\n",
              "\n",
              "    [theme=dark] .colab-df-convert:hover {\n",
              "      background-color: #434B5C;\n",
              "      box-shadow: 0px 1px 3px 1px rgba(0, 0, 0, 0.15);\n",
              "      filter: drop-shadow(0px 1px 2px rgba(0, 0, 0, 0.3));\n",
              "      fill: #FFFFFF;\n",
              "    }\n",
              "  </style>\n",
              "\n",
              "      <script>\n",
              "        const buttonEl =\n",
              "          document.querySelector('#df-0f274db6-d5b7-4df9-a9ac-cb3555719385 button.colab-df-convert');\n",
              "        buttonEl.style.display =\n",
              "          google.colab.kernel.accessAllowed ? 'block' : 'none';\n",
              "\n",
              "        async function convertToInteractive(key) {\n",
              "          const element = document.querySelector('#df-0f274db6-d5b7-4df9-a9ac-cb3555719385');\n",
              "          const dataTable =\n",
              "            await google.colab.kernel.invokeFunction('convertToInteractive',\n",
              "                                                     [key], {});\n",
              "          if (!dataTable) return;\n",
              "\n",
              "          const docLinkHtml = 'Like what you see? Visit the ' +\n",
              "            '<a target=\"_blank\" href=https://colab.research.google.com/notebooks/data_table.ipynb>data table notebook</a>'\n",
              "            + ' to learn more about interactive tables.';\n",
              "          element.innerHTML = '';\n",
              "          dataTable['output_type'] = 'display_data';\n",
              "          await google.colab.output.renderOutput(dataTable, element);\n",
              "          const docLink = document.createElement('div');\n",
              "          docLink.innerHTML = docLinkHtml;\n",
              "          element.appendChild(docLink);\n",
              "        }\n",
              "      </script>\n",
              "    </div>\n",
              "  </div>\n",
              "  "
            ]
          },
          "metadata": {},
          "execution_count": 6
        }
      ]
    },
    {
      "cell_type": "markdown",
      "metadata": {
        "id": "64cf52d6"
      },
      "source": [
        "### Crear diferentes conjuntos de datos"
      ],
      "id": "64cf52d6"
    },
    {
      "cell_type": "code",
      "metadata": {
        "colab": {
          "base_uri": "https://localhost:8080/"
        },
        "id": "07f40655",
        "outputId": "4ced93ec-d516-442b-ba64-9ea6cd764195"
      },
      "source": [
        "dfc.columns"
      ],
      "id": "07f40655",
      "execution_count": 7,
      "outputs": [
        {
          "output_type": "execute_result",
          "data": {
            "text/plain": [
              "Index(['close', 'returns', 'SMA 15', 'SMA 60', 'MSD 10', 'MSD 30', 'rsi'], dtype='object')"
            ]
          },
          "metadata": {},
          "execution_count": 7
        }
      ]
    },
    {
      "cell_type": "code",
      "metadata": {
        "id": "ac6fbb79"
      },
      "source": [
        "# Porcentaje del conjunto de entrenamiento\n",
        "split = int(0.80*len(dfc))\n",
        "\n",
        "# Crear el conjunto de entrenamiento\n",
        "X_train = dfc[['SMA 15', 'SMA 60', 'MSD 10', 'MSD 30', 'rsi']].iloc[:split]\n",
        "y_train = dfc[[\"returns\"]].iloc[:split]\n",
        "\n",
        "\n",
        "# Crear el conjunto de testing\n",
        "X_test = dfc[['SMA 15', 'SMA 60', 'MSD 10', 'MSD 30', 'rsi']].iloc[split:]\n",
        "y_test = dfc[[\"returns\"]].iloc[split:]"
      ],
      "id": "ac6fbb79",
      "execution_count": 8,
      "outputs": []
    },
    {
      "cell_type": "markdown",
      "metadata": {
        "id": "bFuKfe8GeRpf"
      },
      "source": [
        "### Entrenamiento de regresión lineal"
      ],
      "id": "bFuKfe8GeRpf"
    },
    {
      "cell_type": "code",
      "metadata": {
        "colab": {
          "base_uri": "https://localhost:8080/"
        },
        "id": "9b0f773d",
        "outputId": "7fcef9af-2462-4b0e-c87c-06da77028aee"
      },
      "source": [
        "# Import la clase\n",
        "from sklearn.linear_model import LinearRegression\n",
        "\n",
        "# Inicializar la clase\n",
        "reg = LinearRegression()\n",
        "\n",
        "# Ajustar el modelo\n",
        "reg.fit(X_train, y_train)"
      ],
      "id": "9b0f773d",
      "execution_count": 12,
      "outputs": [
        {
          "output_type": "execute_result",
          "data": {
            "text/plain": [
              "LinearRegression()"
            ]
          },
          "metadata": {},
          "execution_count": 12
        }
      ]
    },
    {
      "cell_type": "markdown",
      "metadata": {
        "id": "kM9Jh_LOeYri"
      },
      "source": [
        "### Predicciones de regresión lineal"
      ],
      "id": "kM9Jh_LOeYri"
    },
    {
      "cell_type": "code",
      "metadata": {
        "colab": {
          "base_uri": "https://localhost:8080/",
          "height": 359
        },
        "id": "aafe0dfe",
        "outputId": "55f612e7-ea1d-48c8-e52a-47162683a27f"
      },
      "source": [
        "# Crear predicciones para todo el conjunto de datos\n",
        "X = np.concatenate((X_train, X_test), axis=0)\n",
        "\n",
        "dfc[\"prediction\"] = reg.predict(X)\n",
        "\n",
        "# Verificamos que el algoritmo no predice de un sólo modo (positiva o negativa)\n",
        "dfc[\"prediction\"].plot()"
      ],
      "id": "aafe0dfe",
      "execution_count": 15,
      "outputs": [
        {
          "output_type": "execute_result",
          "data": {
            "text/plain": [
              "<matplotlib.axes._subplots.AxesSubplot at 0x7f57112287d0>"
            ]
          },
          "metadata": {},
          "execution_count": 15
        },
        {
          "output_type": "display_data",
          "data": {
            "text/plain": [
              "<Figure size 576x396 with 1 Axes>"
            ],
            "image/png": "[encoded data removed]"
          },
          "metadata": {}
        }
      ]
    },
    {
      "cell_type": "markdown",
      "metadata": {
        "id": "wv3rJNaLeehZ"
      },
      "source": [
        "### Calcular el beneficio "
      ],
      "id": "wv3rJNaLeehZ"
    },
    {
      "cell_type": "code",
      "metadata": {
        "id": "5Y7YcURIBcH1"
      },
      "source": [
        "# Calculamos la posición\n",
        "dfc[\"position\"] = np.sign(dfc[\"prediction\"])\n"
      ],
      "id": "5Y7YcURIBcH1",
      "execution_count": 16,
      "outputs": []
    },
    {
      "cell_type": "code",
      "source": [
        "# Calcular el beneficio \n",
        "dfc[\"strategy\"] = dfc[\"returns\"] * dfc[\"position\"].shift(1)\n",
        "\n",
        "\n",
        "(dfc[\"strategy\"].iloc[split:].cumsum()*100).plot()"
      ],
      "metadata": {
        "colab": {
          "base_uri": "https://localhost:8080/",
          "height": 366
        },
        "id": "sYFIyCs1oM8U",
        "outputId": "9e63b34d-47ff-480c-e642-3a0243c71db2"
      },
      "id": "sYFIyCs1oM8U",
      "execution_count": 20,
      "outputs": [
        {
          "output_type": "execute_result",
          "data": {
            "text/plain": [
              "<matplotlib.axes._subplots.AxesSubplot at 0x7f57109eaed0>"
            ]
          },
          "metadata": {},
          "execution_count": 20
        },
        {
          "output_type": "display_data",
          "data": {
            "text/plain": [
              "<Figure size 576x396 with 1 Axes>"
            ],
            "image/png": "[encoded data removed]"
          },
          "metadata": {}
        }
      ]
    },
    {
      "cell_type": "code",
      "metadata": {
        "id": "kTohgCOrnJan"
      },
      "source": [
        "def lin_reg_trading(symbol):\n",
        "\n",
        "  def feature_engineering(df):\n",
        "    \"\"\" Create new variables\"\"\"\n",
        "    \n",
        "    # Copiamos el marco de datos para evitar interferencias en los datos\n",
        "    df_copy = df.dropna().copy()\n",
        "    \n",
        "    # Calcular el retorno\n",
        "    df_copy[\"returns\"] = df_copy[\"close\"].pct_change(1)\n",
        "\n",
        "    # Crear las SMAs\n",
        "    df_copy[\"SMA 15\"] = df_copy[[\"close\"]].rolling(15).mean().shift(1)\n",
        "    df_copy[\"SMA 60\"] = df_copy[[\"close\"]].rolling(60).mean().shift(1)\n",
        "    \n",
        "    # Crear las volatilidades\n",
        "    df_copy[\"MSD 10\"] = df_copy[[\"returns\"]].rolling(10).std().shift(1)\n",
        "    df_copy[\"MSD 30\"] = df_copy[[\"returns\"]].rolling(30).std().shift(1)\n",
        "    \n",
        "    # Crear las RSI\n",
        "    RSI = ta.momentum.RSIIndicator(df_copy[\"close\"], window= 14, fillna = False)\n",
        "    df_copy[\"rsi\"] = RSI.rsi()\n",
        "    \n",
        "    return df_copy.dropna()\n",
        "  \n",
        "\n",
        "  # Importar los datos\n",
        "  df = yf.download(symbol)\n",
        "\n",
        "  # Take adjusted close\n",
        "  df = df[[\"Adj Close\"]]\n",
        "\n",
        "  # Rename the column\n",
        "  df.columns = [\"close\"]\n",
        "\n",
        "  dfc = feature_engineering(df)\n",
        "\n",
        "  # Percentage train set\n",
        "  split = int(0.80*len(dfc))\n",
        "\n",
        "  # Train set creation\n",
        "  X_train = dfc[['SMA 15', 'SMA 60', 'MSD 10', 'MSD 30', 'rsi']].iloc[:split]\n",
        "  y_train = dfc[[\"returns\"]].iloc[:split]\n",
        "\n",
        "\n",
        "  # Test set creation\n",
        "  X_test = dfc[['SMA 15', 'SMA 60', 'MSD 10', 'MSD 30', 'rsi']].iloc[split:]\n",
        "  y_test = dfc[[\"returns\"]].iloc[split:]\n",
        "\n",
        "  # Import the class\n",
        "  from sklearn.linear_model import LinearRegression\n",
        "\n",
        "  # Initialize the class\n",
        "  reg = LinearRegression()\n",
        "\n",
        "  # Fit the model\n",
        "  reg.fit(X_train, y_train)\n",
        "\n",
        "  # Create predictions for the whole dataset\n",
        "  X = np.concatenate((X_train, X_test), axis=0)\n",
        "\n",
        "  dfc[\"prediction\"] = reg.predict(X)\n",
        "\n",
        "  # Compute the position\n",
        "  dfc[\"position\"] = np.sign(dfc[\"prediction\"])\n",
        "\n",
        "  # Compute the returns\n",
        "  dfc[\"strategy\"] = dfc[\"returns\"] * dfc[\"position\"].shift(1)\n",
        "\n",
        "\n",
        "  (dfc[\"strategy\"].iloc[split:].cumsum()*100).plot()"
      ],
      "id": "kTohgCOrnJan",
      "execution_count": 21,
      "outputs": []
    },
    {
      "cell_type": "code",
      "metadata": {
        "id": "c6_JMFn4sJ8L",
        "colab": {
          "base_uri": "https://localhost:8080/",
          "height": 390
        },
        "outputId": "2397d943-539f-473a-8a18-a3832970bb1d"
      },
      "source": [
        "lin_reg_trading(\"ETH-EUR\")"
      ],
      "id": "c6_JMFn4sJ8L",
      "execution_count": 24,
      "outputs": [
        {
          "output_type": "stream",
          "name": "stdout",
          "text": [
            "\r[*********************100%***********************]  1 of 1 completed\n"
          ]
        },
        {
          "output_type": "display_data",
          "data": {
            "text/plain": [
              "<Figure size 576x396 with 1 Axes>"
            ],
            "image/png": "[encoded data removed]"
          },
          "metadata": {}
        }
      ]
    },
    {
      "cell_type": "code",
      "metadata": {
        "id": "QSeK4rtkGNcH"
      },
      "source": [
        ""
      ],
      "id": "QSeK4rtkGNcH",
      "execution_count": null,
      "outputs": []
    }
  ]
}