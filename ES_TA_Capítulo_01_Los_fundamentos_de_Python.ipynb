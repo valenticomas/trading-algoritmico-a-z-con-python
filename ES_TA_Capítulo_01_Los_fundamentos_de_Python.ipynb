{
  "nbformat": 4,
  "nbformat_minor": 0,
  "metadata": {
    "colab": {
      "name": "ES-TA Capítulo 01: Los fundamentos de Python.ipynb",
      "provenance": [],
      "collapsed_sections": [
        "Kd-SYHI-ZF85",
        "2UHCKDk8bJEf",
        "W9Vc62veaNKg",
        "7xKs11J6akHQ",
        "wwObVh1w9Wl9",
        "-9ElsbKP-xvK",
        "emrr2xJjhmKd",
        "S0TnQtBMfRXB",
        "F8rax_dDgnFI",
        "4NWfx4mRhpgX"
      ],
      "toc_visible": true,
      "include_colab_link": true
    },
    "kernelspec": {
      "name": "python3",
      "display_name": "Python 3"
    }
  },
  "cells": [
    {
      "cell_type": "markdown",
      "metadata": {
        "id": "view-in-github",
        "colab_type": "text"
      },
      "source": [
        "<a href=\"https://colab.research.google.com/github/joanby/trading-algoritmico-a-z-con-python/blob/main/ES_TA_Cap%C3%ADtulo_01_Los_fundamentos_de_Python.ipynb\" target=\"_parent\"><img src=\"https://colab.research.google.com/assets/colab-badge.svg\" alt=\"Open In Colab\"/></a>"
      ]
    },
    {
      "cell_type": "markdown",
      "metadata": {
        "id": "HwIk5lNgltIS"
      },
      "source": [
        "<p><img alt=\"Colaboratory logo\" height=\"45px\" src=\"https://www.quantreo.com/wp-content/uploads/2021/10/Original-on-Transparent.png\" align=\"left\" hspace=\"10px\" vspace=\"0px\">\n",
        "<img alt=\"Colaboratory logo\" height=\"45px\" src=\"https://static-881c.kxcdn.com/wp-content/uploads/2016/03/frogamesLogoFull4.png\" align=\"left\" hspace=\"10px\" vspace=\"0px\"></p>\n",
        "\n",
        "# PRERREQUISITOS  - **Las Bases de Python**\n",
        "\n",
        "Este capítulo te dará los fundamentos de python que necesitas para seguir el resto del curso. Estos son sólo recordatorios de lo que será útil. Por eso te aconsejo que sigas una formación rápida de Python para tus proyectos, porque si eres totalmente ajeno a él, puede ser difícil hacer tu proyecto. Nosotros te recomendamos el curso de más de 50 horas de programación, [Python de la A a la Z que puedes obtener desde nuestra web de frogames](https://cursos.frogamesformacion.com/courses/python-az/).\n",
        "\n",
        "\n",
        "### Parte 1: Los fundamentos de Python\n",
        "* Tipos de objetos:\n",
        "> * Números, Strings y Booleanos\n",
        "> * Tuplas y Listas\n",
        "> * Asignación de Variables\n",
        "* Estructuras de Python:\n",
        "> * If/Elif/Else\n",
        "> * For\n",
        "> * While\n",
        "* Las funciones\n",
        "> * Base de las funciones\n",
        "> * Variable local\n",
        "> * Variable global\n",
        "> * Función lambda\n",
        "\n",
        "\n",
        "\n",
        "💰 Únete a la comunidad de [Discord](https://discord.gg/z3dx5XpkX4)\n",
        "\n",
        "📚 Puedes leer nuestro libro en [Amazon](https://www.amazon.es/Python-para-finanzas-trading-algor%C3%ADtmico-ebook/dp/B0BT4ZS9Q3/)\n",
        "\n",
        "🖥️ El canal de [YouTube de Quantreo's](https://www.youtube.com/channel/UCp7jckfiEglNf_Gj62VR0pw) (en inglés) y el de [Frogames](https://www.youtube.com/channel/UCMUxXNYrVCv6-bQakhomvBg) en español\n",
        "\n",
        "\n",
        "\n",
        "\n"
      ]
    },
    {
      "cell_type": "markdown",
      "metadata": {
        "id": "nJYyIbZ_WbFT"
      },
      "source": [
        "### Tipos de Objetos"
      ]
    },
    {
      "cell_type": "markdown",
      "metadata": {
        "id": "DuY3oXKNWd1h"
      },
      "source": [
        "##### Números"
      ]
    },
    {
      "cell_type": "code",
      "metadata": {
        "id": "yoYnGbme8kcq",
        "colab": {
          "base_uri": "https://localhost:8080/"
        },
        "outputId": "437cc0f9-8fe7-48d2-eed3-2f291f12b80d"
      },
      "source": [
        "# Suma\n",
        "6 + 3"
      ],
      "execution_count": null,
      "outputs": [
        {
          "output_type": "execute_result",
          "data": {
            "text/plain": [
              "9"
            ]
          },
          "metadata": {},
          "execution_count": 2
        }
      ]
    },
    {
      "cell_type": "code",
      "metadata": {
        "id": "lPQ-ZedRCtL0",
        "colab": {
          "base_uri": "https://localhost:8080/"
        },
        "outputId": "c048434e-1297-4fc4-af46-2e3c6c60068f"
      },
      "source": [
        "# Resta\n",
        "6 - 3"
      ],
      "execution_count": null,
      "outputs": [
        {
          "output_type": "execute_result",
          "data": {
            "text/plain": [
              "3"
            ]
          },
          "metadata": {},
          "execution_count": 3
        }
      ]
    },
    {
      "cell_type": "code",
      "metadata": {
        "id": "FSWWYIqBCwlg",
        "colab": {
          "base_uri": "https://localhost:8080/"
        },
        "outputId": "7a563f0c-e5ff-4e7c-ab34-43e71e9f4868"
      },
      "source": [
        "# Multiplicación\n",
        "6 * 3"
      ],
      "execution_count": null,
      "outputs": [
        {
          "output_type": "execute_result",
          "data": {
            "text/plain": [
              "18"
            ]
          },
          "metadata": {},
          "execution_count": 4
        }
      ]
    },
    {
      "cell_type": "code",
      "metadata": {
        "id": "fMQNWXVvC0Sx",
        "colab": {
          "base_uri": "https://localhost:8080/"
        },
        "outputId": "49d726ae-5b3c-4325-a41f-776ac22050e0"
      },
      "source": [
        "# División \n",
        "16 / 3"
      ],
      "execution_count": null,
      "outputs": [
        {
          "output_type": "execute_result",
          "data": {
            "text/plain": [
              "5.333333333333333"
            ]
          },
          "metadata": {},
          "execution_count": 5
        }
      ]
    },
    {
      "cell_type": "code",
      "metadata": {
        "id": "DH1jRr5_Xxo2",
        "colab": {
          "base_uri": "https://localhost:8080/"
        },
        "outputId": "73f6324b-0da9-4aac-ef28-e3c137926ef3"
      },
      "source": [
        "# Potencias 2*2*2\n",
        "2**3"
      ],
      "execution_count": null,
      "outputs": [
        {
          "output_type": "execute_result",
          "data": {
            "text/plain": [
              "8"
            ]
          },
          "metadata": {},
          "execution_count": 8
        }
      ]
    },
    {
      "cell_type": "code",
      "metadata": {
        "id": "abqfE8I2C2cr",
        "colab": {
          "base_uri": "https://localhost:8080/"
        },
        "outputId": "72e08e7e-5327-428a-baef-4f543e1d02be"
      },
      "source": [
        "# División entera (euclídea) | 5.33 --> 5\n",
        "16 // 3"
      ],
      "execution_count": null,
      "outputs": [
        {
          "output_type": "execute_result",
          "data": {
            "text/plain": [
              "5"
            ]
          },
          "metadata": {},
          "execution_count": 9
        }
      ]
    },
    {
      "cell_type": "code",
      "metadata": {
        "id": "SnktoxGAC_ew",
        "colab": {
          "base_uri": "https://localhost:8080/"
        },
        "outputId": "69f73e5f-62a7-4ee5-d5fb-aedcf4e86af6"
      },
      "source": [
        "# Módulo | 16 = 5*3 + 1 \n",
        "16 % 3"
      ],
      "execution_count": null,
      "outputs": [
        {
          "output_type": "execute_result",
          "data": {
            "text/plain": [
              "1"
            ]
          },
          "metadata": {},
          "execution_count": 10
        }
      ]
    },
    {
      "cell_type": "markdown",
      "metadata": {
        "id": "iEQQbsVFWkKi"
      },
      "source": [
        "##### String"
      ]
    },
    {
      "cell_type": "code",
      "metadata": {
        "id": "8jOPFgexDF2H",
        "colab": {
          "base_uri": "https://localhost:8080/",
          "height": 35
        },
        "outputId": "b85f9965-8c17-410b-cf3a-31d544dbe048"
      },
      "source": [
        "# Simple String\n",
        "print(\"Soy una información\")"
      ],
      "execution_count": null,
      "outputs": [
        {
          "output_type": "execute_result",
          "data": {
            "text/plain": [
              "'Soy una información'"
            ],
            "application/vnd.google.colaboratory.intrinsic+json": {
              "type": "string"
            }
          },
          "metadata": {},
          "execution_count": 2
        }
      ]
    },
    {
      "cell_type": "code",
      "metadata": {
        "colab": {
          "base_uri": "https://localhost:8080/"
        },
        "id": "ibeFvaYOnCDd",
        "outputId": "b7fc4fde-fcc3-4c07-c2a4-f7b423ca28ba"
      },
      "source": [
        "# Añadir una tabulación\n",
        "print(\"Media:10% \\t Volatilidad:10%\")"
      ],
      "execution_count": null,
      "outputs": [
        {
          "output_type": "stream",
          "name": "stdout",
          "text": [
            "Media:10% \t Volatilidad:10%\n"
          ]
        }
      ]
    },
    {
      "cell_type": "code",
      "metadata": {
        "colab": {
          "base_uri": "https://localhost:8080/"
        },
        "id": "rGWkCu3vpDoW",
        "outputId": "156abeae-6884-45a8-deee-3a2c317f50a5"
      },
      "source": [
        "# Salto de línea\n",
        "print(\"Media:10% \\nVolatilidad:10%\")"
      ],
      "execution_count": null,
      "outputs": [
        {
          "output_type": "stream",
          "name": "stdout",
          "text": [
            "Media:10% \n",
            "Volatilidad:10%\n"
          ]
        }
      ]
    },
    {
      "cell_type": "code",
      "metadata": {
        "id": "zLAVLu5rWv2a",
        "colab": {
          "base_uri": "https://localhost:8080/"
        },
        "outputId": "1ba52c4b-7fa0-44b6-b559-7428edbeb48c"
      },
      "source": [
        "# String dinámico (primera opción: simple string using the format function)\n",
        "print(\"Precio de las acciones de Tesla: {}$ en la fecha {}\".format(110,\"01-01-2020\"))"
      ],
      "execution_count": null,
      "outputs": [
        {
          "output_type": "stream",
          "name": "stdout",
          "text": [
            "Precio de las acciones de Tesla: 110$ en la fecha 01-01-2020\n"
          ]
        }
      ]
    },
    {
      "cell_type": "code",
      "metadata": {
        "id": "shGzNr67Wvx0",
        "colab": {
          "base_uri": "https://localhost:8080/"
        },
        "outputId": "f8c2e1f3-877e-4cda-92a4-34290d4c1489"
      },
      "source": [
        "# String dinámico (segunda opción: f-string )\n",
        "print(f\"Precio de las acciones de Tesla: {110}$ en la fecha {'01-01-2010'}\")"
      ],
      "execution_count": null,
      "outputs": [
        {
          "output_type": "stream",
          "name": "stdout",
          "text": [
            "Precio de las acciones de Tesla: 110$ en la fecha 01-01-2010\n"
          ]
        }
      ]
    },
    {
      "cell_type": "code",
      "metadata": {
        "colab": {
          "base_uri": "https://localhost:8080/"
        },
        "id": "Uaz_tqJgpMae",
        "outputId": "d7c120c8-94e4-4b86-9a3e-75e62093c010"
      },
      "source": [
        "# Redondear un número con  f-string\n",
        "print(f\"Precio de las acciones de Tesla: {'%.2f' % 110.15645147854}$\")"
      ],
      "execution_count": null,
      "outputs": [
        {
          "output_type": "stream",
          "name": "stdout",
          "text": [
            "Precio de las acciones de Tesla: 110.16$\n"
          ]
        }
      ]
    },
    {
      "cell_type": "code",
      "metadata": {
        "id": "ud27MNZYdwSG",
        "colab": {
          "base_uri": "https://localhost:8080/",
          "height": 35
        },
        "outputId": "6a81412a-0bca-47d0-943f-19f71cdaecad"
      },
      "source": [
        "# Slicing en strings\n",
        "\"Soy una información\"[0:6]"
      ],
      "execution_count": null,
      "outputs": [
        {
          "output_type": "execute_result",
          "data": {
            "text/plain": [
              "'Soy un'"
            ],
            "application/vnd.google.colaboratory.intrinsic+json": {
              "type": "string"
            }
          },
          "metadata": {},
          "execution_count": 20
        }
      ]
    },
    {
      "cell_type": "markdown",
      "metadata": {
        "id": "JUULnsP_Xemv"
      },
      "source": [
        "##### Operadores booleanos / lógicos"
      ]
    },
    {
      "cell_type": "code",
      "metadata": {
        "id": "vM_KlXcMWvtr",
        "colab": {
          "base_uri": "https://localhost:8080/"
        },
        "outputId": "0a313eb1-7dd2-4d3d-e7d0-d6fdbfa87f77"
      },
      "source": [
        "# Tipo Booleano (True)\n",
        "True"
      ],
      "execution_count": null,
      "outputs": [
        {
          "output_type": "execute_result",
          "data": {
            "text/plain": [
              "True"
            ]
          },
          "metadata": {},
          "execution_count": 21
        }
      ]
    },
    {
      "cell_type": "code",
      "metadata": {
        "id": "53gTC6s5WvsF",
        "colab": {
          "base_uri": "https://localhost:8080/"
        },
        "outputId": "ead7f7ef-4360-4066-b2ac-678935d6f3a9"
      },
      "source": [
        "# Tipo Booleano (False)\n",
        "False"
      ],
      "execution_count": null,
      "outputs": [
        {
          "output_type": "execute_result",
          "data": {
            "text/plain": [
              "False"
            ]
          },
          "metadata": {},
          "execution_count": 22
        }
      ]
    },
    {
      "cell_type": "code",
      "metadata": {
        "id": "IoozzT2bdK_u",
        "colab": {
          "base_uri": "https://localhost:8080/"
        },
        "outputId": "3bf66adb-979c-47bd-9788-7881cd5ad3d8"
      },
      "source": [
        "# Igualdad\n",
        "5 == 6"
      ],
      "execution_count": null,
      "outputs": [
        {
          "output_type": "execute_result",
          "data": {
            "text/plain": [
              "False"
            ]
          },
          "metadata": {},
          "execution_count": 23
        }
      ]
    },
    {
      "cell_type": "code",
      "metadata": {
        "id": "_f1XD2w3dgY5",
        "colab": {
          "base_uri": "https://localhost:8080/"
        },
        "outputId": "cc706dde-a4e8-4138-a41b-fe0d2d0a8ebe"
      },
      "source": [
        "# Sup\n",
        "5 > 6"
      ],
      "execution_count": null,
      "outputs": [
        {
          "output_type": "execute_result",
          "data": {
            "text/plain": [
              "False"
            ]
          },
          "metadata": {},
          "execution_count": 24
        }
      ]
    },
    {
      "cell_type": "code",
      "metadata": {
        "id": "yZj4kBbLdkUo",
        "colab": {
          "base_uri": "https://localhost:8080/"
        },
        "outputId": "b3d124fd-25f1-4749-9255-1071af1b3e1c"
      },
      "source": [
        "# Inf\n",
        "5 < 6"
      ],
      "execution_count": null,
      "outputs": [
        {
          "output_type": "execute_result",
          "data": {
            "text/plain": [
              "True"
            ]
          },
          "metadata": {},
          "execution_count": 25
        }
      ]
    },
    {
      "cell_type": "code",
      "metadata": {
        "id": "BbEIqsW4ducB",
        "colab": {
          "base_uri": "https://localhost:8080/"
        },
        "outputId": "b11aa784-f150-47bf-8008-e9603f3514d9"
      },
      "source": [
        "# No Igual\n",
        "5 != 6"
      ],
      "execution_count": null,
      "outputs": [
        {
          "output_type": "execute_result",
          "data": {
            "text/plain": [
              "True"
            ]
          },
          "metadata": {},
          "execution_count": 26
        }
      ]
    },
    {
      "cell_type": "code",
      "metadata": {
        "id": "15J-4du3d0o-",
        "colab": {
          "base_uri": "https://localhost:8080/"
        },
        "outputId": "cc67cd4e-2e58-499b-8013-51c3b6565bb3"
      },
      "source": [
        "# Y \n",
        "(1<2) and (5>6)"
      ],
      "execution_count": null,
      "outputs": [
        {
          "output_type": "execute_result",
          "data": {
            "text/plain": [
              "False"
            ]
          },
          "metadata": {},
          "execution_count": 29
        }
      ]
    },
    {
      "cell_type": "code",
      "metadata": {
        "id": "XtzLTurHd47e",
        "colab": {
          "base_uri": "https://localhost:8080/"
        },
        "outputId": "e57589ab-2768-49a0-d50e-2db3522fd49e"
      },
      "source": [
        "# O\n",
        "(1<2) or (5>6)"
      ],
      "execution_count": null,
      "outputs": [
        {
          "output_type": "execute_result",
          "data": {
            "text/plain": [
              "True"
            ]
          },
          "metadata": {},
          "execution_count": 32
        }
      ]
    },
    {
      "cell_type": "code",
      "metadata": {
        "id": "pTRdjRHyZKZ7",
        "colab": {
          "base_uri": "https://localhost:8080/"
        },
        "outputId": "d194dabe-5ad9-4d9c-d851-a35bd1a4093b"
      },
      "source": [
        "# No \n",
        "not (5>6)"
      ],
      "execution_count": null,
      "outputs": [
        {
          "output_type": "execute_result",
          "data": {
            "text/plain": [
              "True"
            ]
          },
          "metadata": {},
          "execution_count": 34
        }
      ]
    },
    {
      "cell_type": "markdown",
      "metadata": {
        "id": "cGqtdDyYX1Dk"
      },
      "source": [
        "##### Asignación de variables"
      ]
    },
    {
      "cell_type": "code",
      "metadata": {
        "id": "q3PsKlhZWvlz",
        "colab": {
          "base_uri": "https://localhost:8080/"
        },
        "outputId": "adde20ff-1905-4e46-a915-6fe23c153e5f"
      },
      "source": [
        "# Variables Numéricas\n",
        "x = 6\n",
        "y = 5\n",
        "print(x + y)"
      ],
      "execution_count": null,
      "outputs": [
        {
          "output_type": "stream",
          "name": "stdout",
          "text": [
            "11\n"
          ]
        }
      ]
    },
    {
      "cell_type": "code",
      "metadata": {
        "id": "NrwwCpCCWvkU",
        "colab": {
          "base_uri": "https://localhost:8080/"
        },
        "outputId": "665c7bc5-3a0c-4120-e892-a9e818329a3b"
      },
      "source": [
        "# Variables String\n",
        "date = \"03-13-2020\"\n",
        "price = 180\n",
        "info = f\"Tesla: {price}$, Fecha: {date}\"\n",
        "\n",
        "print(info)"
      ],
      "execution_count": null,
      "outputs": [
        {
          "output_type": "stream",
          "name": "stdout",
          "text": [
            "Tesla: 180$, Fecha: 03-13-2020\n"
          ]
        }
      ]
    },
    {
      "cell_type": "code",
      "metadata": {
        "id": "ufENsej-WveT",
        "colab": {
          "base_uri": "https://localhost:8080/"
        },
        "outputId": "229f98c1-c9e7-40b0-c6a0-08a064510907"
      },
      "source": [
        "# Variables Booleanas\n",
        "time = \"20:00\"\n",
        "market_open = (\"08:00\" < time) and (time < \"19:00\")\n",
        "print(market_open)"
      ],
      "execution_count": null,
      "outputs": [
        {
          "output_type": "stream",
          "name": "stdout",
          "text": [
            "False\n"
          ]
        }
      ]
    },
    {
      "cell_type": "markdown",
      "metadata": {
        "id": "EMAdDk_6YXgw"
      },
      "source": [
        "##### Tuplas y Listas"
      ]
    },
    {
      "cell_type": "code",
      "metadata": {
        "id": "WY3Eyz5PWvcm",
        "colab": {
          "base_uri": "https://localhost:8080/"
        },
        "outputId": "57db579f-888d-4b6e-fe88-109437893669"
      },
      "source": [
        "# Tupla\n",
        "my_tuple = (1,2,3)\n",
        "my_tuple"
      ],
      "execution_count": null,
      "outputs": [
        {
          "output_type": "execute_result",
          "data": {
            "text/plain": [
              "(1, 2, 3)"
            ]
          },
          "metadata": {},
          "execution_count": 42
        }
      ]
    },
    {
      "cell_type": "code",
      "metadata": {
        "id": "L7RGe8QgWvYt",
        "colab": {
          "base_uri": "https://localhost:8080/"
        },
        "outputId": "635fdc99-0bfa-4080-bd42-5abb8f157776"
      },
      "source": [
        "# Crear una lista\n",
        "my_list = [1,2,3,4,5,6,7,8,9,10]\n",
        "my_list"
      ],
      "execution_count": null,
      "outputs": [
        {
          "output_type": "execute_result",
          "data": {
            "text/plain": [
              "[1, 2, 3, 4, 5, 6, 7, 8, 9, 10]"
            ]
          },
          "metadata": {},
          "execution_count": 43
        }
      ]
    },
    {
      "cell_type": "code",
      "metadata": {
        "id": "OSQw1R5yWvPy",
        "colab": {
          "base_uri": "https://localhost:8080/"
        },
        "outputId": "aed8de95-11ec-4344-9814-4e51adaf1cd4"
      },
      "source": [
        "# Añadir valores\n",
        "my_list.append(11)\n",
        "my_list"
      ],
      "execution_count": null,
      "outputs": [
        {
          "output_type": "execute_result",
          "data": {
            "text/plain": [
              "[1, 2, 3, 4, 5, 6, 7, 8, 9, 10, 11]"
            ]
          },
          "metadata": {},
          "execution_count": 44
        }
      ]
    },
    {
      "cell_type": "code",
      "metadata": {
        "colab": {
          "base_uri": "https://localhost:8080/"
        },
        "id": "8p9Tpd42zOq_",
        "outputId": "5be98bbb-0c0b-4feb-e923-d4daefd60213"
      },
      "source": [
        "# Añadir valores\n",
        "my_list.extend([12,13,14,15,16,17])\n",
        "my_list"
      ],
      "execution_count": null,
      "outputs": [
        {
          "output_type": "execute_result",
          "data": {
            "text/plain": [
              "[1, 2, 3, 4, 5, 6, 7, 8, 9, 10, 11, 12, 13, 14, 15, 16, 17]"
            ]
          },
          "metadata": {},
          "execution_count": 45
        }
      ]
    },
    {
      "cell_type": "code",
      "metadata": {
        "id": "i391z7t4ZwnM",
        "colab": {
          "base_uri": "https://localhost:8080/"
        },
        "outputId": "236b147c-9142-4a2b-8318-6378ab511054"
      },
      "source": [
        "# Índices\n",
        "my_list[0]"
      ],
      "execution_count": null,
      "outputs": [
        {
          "output_type": "execute_result",
          "data": {
            "text/plain": [
              "1"
            ]
          },
          "metadata": {},
          "execution_count": 51
        }
      ]
    },
    {
      "cell_type": "code",
      "metadata": {
        "id": "owXGp0IsZ3Lg",
        "colab": {
          "base_uri": "https://localhost:8080/"
        },
        "outputId": "ad56180f-9c36-4553-cf6b-a4b669a266f9"
      },
      "source": [
        "# Selección de un rango de valores\n",
        "my_list[0:9]"
      ],
      "execution_count": null,
      "outputs": [
        {
          "output_type": "execute_result",
          "data": {
            "text/plain": [
              "[1, 2, 3, 4, 5, 6, 7, 8, 9]"
            ]
          },
          "metadata": {},
          "execution_count": 56
        }
      ]
    },
    {
      "cell_type": "code",
      "metadata": {
        "id": "g5SsaYNjZ6Jo",
        "colab": {
          "base_uri": "https://localhost:8080/"
        },
        "outputId": "6dedb085-aef8-4525-e9d1-265284929463"
      },
      "source": [
        "# Eliminar un valor\n",
        "del my_list[0]\n",
        "my_list"
      ],
      "execution_count": null,
      "outputs": [
        {
          "output_type": "execute_result",
          "data": {
            "text/plain": [
              "[2, 3, 4, 5, 6, 7, 8, 9, 10, 11, 12, 13, 14, 15, 16, 17]"
            ]
          },
          "metadata": {},
          "execution_count": 57
        }
      ]
    },
    {
      "cell_type": "code",
      "metadata": {
        "id": "JH1xzsjTZOhr",
        "colab": {
          "base_uri": "https://localhost:8080/"
        },
        "outputId": "6b5e73a4-377f-4e75-f451-f9792121517c"
      },
      "source": [
        "# Bonus: Listas anidadas\n",
        "my_list = [[1,15], 3, \"Finance\"]\n",
        "\n",
        "# Imprimir la sublista\n",
        "print(my_list[0])\n",
        "\n",
        "# Imprimir el valor 15\n",
        "print(my_list[0][1])"
      ],
      "execution_count": null,
      "outputs": [
        {
          "output_type": "stream",
          "name": "stdout",
          "text": [
            "[1, 15]\n",
            "15\n"
          ]
        }
      ]
    },
    {
      "cell_type": "markdown",
      "metadata": {
        "id": "Kd-SYHI-ZF85"
      },
      "source": [
        "##### Diccionarios"
      ]
    },
    {
      "cell_type": "code",
      "metadata": {
        "id": "7PasvUGAZw7L"
      },
      "source": [
        "# Inicializar un diccionario\n",
        "dic = {}"
      ],
      "execution_count": null,
      "outputs": []
    },
    {
      "cell_type": "code",
      "metadata": {
        "id": "FngIfxOfZ-o5",
        "colab": {
          "base_uri": "https://localhost:8080/"
        },
        "outputId": "1875dd1e-d27b-4830-f73e-a76f29929a63"
      },
      "source": [
        "# Inicializar con valores\n",
        "dic = {\"Tesla price\" : 1500,\n",
        "       \"Google price\": 3000}\n",
        "dic"
      ],
      "execution_count": null,
      "outputs": [
        {
          "output_type": "execute_result",
          "data": {
            "text/plain": [
              "{'Google price': 3000, 'Tesla price': 1500}"
            ]
          },
          "metadata": {},
          "execution_count": 65
        }
      ]
    },
    {
      "cell_type": "code",
      "metadata": {
        "id": "XT9t_7nraYJL",
        "colab": {
          "base_uri": "https://localhost:8080/"
        },
        "outputId": "4680300b-414e-4a25-c364-71ec3422aad7"
      },
      "source": [
        "# Añadir un valor\n",
        "dic[\"Microsoft price\"] = 1500\n",
        "dic"
      ],
      "execution_count": null,
      "outputs": [
        {
          "output_type": "execute_result",
          "data": {
            "text/plain": [
              "{'Google price': 3000, 'Microsoft price': 1500, 'Tesla price': 1500}"
            ]
          },
          "metadata": {},
          "execution_count": 66
        }
      ]
    },
    {
      "cell_type": "code",
      "metadata": {
        "colab": {
          "base_uri": "https://localhost:8080/"
        },
        "id": "1fnoJHGmaRtG",
        "outputId": "91dcd881-dac2-4841-cb36-af28484bcebf"
      },
      "source": [
        "# Cambiar un valor\n",
        "dic[\"Microsoft price\"] = 3000\n",
        "dic"
      ],
      "execution_count": null,
      "outputs": [
        {
          "output_type": "execute_result",
          "data": {
            "text/plain": [
              "{'Google price': 3000, 'Microsoft price': 3000, 'Tesla price': 1500}"
            ]
          },
          "metadata": {},
          "execution_count": 67
        }
      ]
    },
    {
      "cell_type": "code",
      "metadata": {
        "id": "t4GhmGtdapWP",
        "colab": {
          "base_uri": "https://localhost:8080/"
        },
        "outputId": "17603bb6-99dd-461d-8921-1e4bf3e98b9a"
      },
      "source": [
        "# Extraer un valor\n",
        "dic[\"Microsoft price\"]"
      ],
      "execution_count": null,
      "outputs": [
        {
          "output_type": "execute_result",
          "data": {
            "text/plain": [
              "3000"
            ]
          },
          "metadata": {},
          "execution_count": 68
        }
      ]
    },
    {
      "cell_type": "code",
      "metadata": {
        "colab": {
          "base_uri": "https://localhost:8080/"
        },
        "id": "rOBalLlC3Et8",
        "outputId": "5b5a1592-8b2b-482c-c502-be8a5df99fcb"
      },
      "source": [
        "# Eliminar un valor\n",
        "del dic[\"Microsoft price\"]\n",
        "dic"
      ],
      "execution_count": null,
      "outputs": [
        {
          "output_type": "execute_result",
          "data": {
            "text/plain": [
              "{'Google price': 3000, 'Tesla price': 1500}"
            ]
          },
          "metadata": {},
          "execution_count": 69
        }
      ]
    },
    {
      "cell_type": "code",
      "metadata": {
        "colab": {
          "base_uri": "https://localhost:8080/"
        },
        "id": "otvn059la3Ct",
        "outputId": "fe4b018b-7f13-4182-eec6-70ad0cd473d0"
      },
      "source": [
        "# Extraer el nombre de las claves\n",
        "dic.keys()"
      ],
      "execution_count": null,
      "outputs": [
        {
          "output_type": "execute_result",
          "data": {
            "text/plain": [
              "dict_keys(['Tesla price', 'Google price'])"
            ]
          },
          "metadata": {},
          "execution_count": 70
        }
      ]
    },
    {
      "cell_type": "code",
      "metadata": {
        "colab": {
          "base_uri": "https://localhost:8080/"
        },
        "id": "ndKUymfzbF4t",
        "outputId": "df471e24-bb8d-4f43-9dd9-344ca72f0a12"
      },
      "source": [
        "# Extraer los valores del diccionario\n",
        "dic.values()"
      ],
      "execution_count": null,
      "outputs": [
        {
          "output_type": "execute_result",
          "data": {
            "text/plain": [
              "dict_values([1500, 3000])"
            ]
          },
          "metadata": {},
          "execution_count": 71
        }
      ]
    },
    {
      "cell_type": "markdown",
      "metadata": {
        "id": "2UHCKDk8bJEf"
      },
      "source": [
        "##### Conjuntos"
      ]
    },
    {
      "cell_type": "code",
      "metadata": {
        "id": "viHNp-EHbQ9H",
        "colab": {
          "base_uri": "https://localhost:8080/"
        },
        "outputId": "130d4fa3-df3c-46a8-fbd9-06cb707f69c5"
      },
      "source": [
        "# Crear un conjunto\n",
        "{1,3,9}"
      ],
      "execution_count": 1,
      "outputs": [
        {
          "output_type": "execute_result",
          "data": {
            "text/plain": [
              "{1, 3, 9}"
            ]
          },
          "metadata": {},
          "execution_count": 1
        }
      ]
    },
    {
      "cell_type": "code",
      "metadata": {
        "id": "_E1aFnTcbYpJ",
        "colab": {
          "base_uri": "https://localhost:8080/"
        },
        "outputId": "c7d78f55-cce1-4fb7-fec7-ff97ff2a23f3"
      },
      "source": [
        "# Propiedad de los Conjuntos\n",
        "{1,1,1, 3,3,3, 9,9,9}"
      ],
      "execution_count": 2,
      "outputs": [
        {
          "output_type": "execute_result",
          "data": {
            "text/plain": [
              "{1, 3, 9}"
            ]
          },
          "metadata": {},
          "execution_count": 2
        }
      ]
    },
    {
      "cell_type": "code",
      "metadata": {
        "id": "2kc9rLF6be3l",
        "colab": {
          "base_uri": "https://localhost:8080/"
        },
        "outputId": "e7b7e73e-623d-4f6d-868e-4d73ccad2e92"
      },
      "source": [
        "# Crear una lista\n",
        "my_list = [\"Finanzas\", \"Estadística\", \"Matemáticas\",\n",
        "           \"Finanzas\", \"Estadística\", \"Finanzas\",\n",
        "           \"Matemáticas\", \"Finanzas\", \"Estadística\"]\n",
        "\n",
        "# Transformar una lista en un conjunto\n",
        "set(my_list)"
      ],
      "execution_count": 3,
      "outputs": [
        {
          "output_type": "execute_result",
          "data": {
            "text/plain": [
              "{'Estadística', 'Finanzas', 'Matemáticas'}"
            ]
          },
          "metadata": {},
          "execution_count": 3
        }
      ]
    },
    {
      "cell_type": "code",
      "metadata": {
        "id": "s2b-8LgkcLs1",
        "colab": {
          "base_uri": "https://localhost:8080/"
        },
        "outputId": "1b06f669-e2c3-4343-836d-8367caecfc02"
      },
      "source": [
        "# Añadir un valor\n",
        "s = {1,3,5}\n",
        "print(s)\n",
        "\n",
        "s.add(56)\n",
        "s.add(68)\n",
        "print(s)"
      ],
      "execution_count": 4,
      "outputs": [
        {
          "output_type": "stream",
          "name": "stdout",
          "text": [
            "{1, 3, 5}\n",
            "{1, 3, 68, 5, 56}\n"
          ]
        }
      ]
    },
    {
      "cell_type": "markdown",
      "metadata": {
        "id": "W9Vc62veaNKg"
      },
      "source": [
        "### Estructuras de código en Python "
      ]
    },
    {
      "cell_type": "markdown",
      "metadata": {
        "id": "7xKs11J6akHQ"
      },
      "source": [
        "##### If/ Elif/ Else"
      ]
    },
    {
      "cell_type": "code",
      "metadata": {
        "id": "CqZigieEaOkf",
        "colab": {
          "base_uri": "https://localhost:8080/"
        },
        "outputId": "41b03c0f-1f20-454f-b488-0e6811604694"
      },
      "source": [
        "# Estructuras condicionales IF\n",
        "if 5<6:\n",
        "  print(\"Sí\")"
      ],
      "execution_count": 6,
      "outputs": [
        {
          "output_type": "stream",
          "name": "stdout",
          "text": [
            "Sí\n"
          ]
        }
      ]
    },
    {
      "cell_type": "code",
      "metadata": {
        "id": "neKqpCKn8y9N",
        "colab": {
          "base_uri": "https://localhost:8080/"
        },
        "outputId": "89d60d03-66f9-427f-8502-acd44a74bf96"
      },
      "source": [
        "# Estructuras condicionales IF/ ELSE\n",
        "if 5>6:\n",
        "  print(\"Sí\")\n",
        "else:\n",
        "  print(\"No\")"
      ],
      "execution_count": 9,
      "outputs": [
        {
          "output_type": "stream",
          "name": "stdout",
          "text": [
            "No\n"
          ]
        }
      ]
    },
    {
      "cell_type": "code",
      "metadata": {
        "id": "qEKi-yu_873c",
        "colab": {
          "base_uri": "https://localhost:8080/"
        },
        "outputId": "1a9da90c-cbee-4abb-a2b7-f0827b793238"
      },
      "source": [
        "# Estructuras condicionales IF/ ELIF/ ELSE\n",
        "x = 11\n",
        "\n",
        "if x>=15:\n",
        "  print(\"X>=15\")\n",
        "elif x>10:\n",
        "  print(\"10<X<15\")\n",
        "else:\n",
        "  print(\"X=<10\")"
      ],
      "execution_count": 15,
      "outputs": [
        {
          "output_type": "stream",
          "name": "stdout",
          "text": [
            "10<X<15\n"
          ]
        }
      ]
    },
    {
      "cell_type": "markdown",
      "metadata": {
        "id": "wwObVh1w9Wl9"
      },
      "source": [
        "##### Bucle for"
      ]
    },
    {
      "cell_type": "code",
      "metadata": {
        "id": "I8BKwywY9iKQ",
        "colab": {
          "base_uri": "https://localhost:8080/"
        },
        "outputId": "963cb45e-79ee-4cb8-fed6-6823716bd606"
      },
      "source": [
        "# Bucle for en una secuencia\n",
        "sequence = [1,2,3,4,5,6,7,8,9]\n",
        "\n",
        "for item in sequence:\n",
        "  print(item**2)"
      ],
      "execution_count": 19,
      "outputs": [
        {
          "output_type": "stream",
          "name": "stdout",
          "text": [
            "1\n",
            "4\n",
            "9\n",
            "16\n",
            "25\n",
            "36\n",
            "49\n",
            "64\n",
            "81\n"
          ]
        }
      ]
    },
    {
      "cell_type": "code",
      "metadata": {
        "id": "-NyTU8609ndX",
        "colab": {
          "base_uri": "https://localhost:8080/"
        },
        "outputId": "b8ed2b9c-c078-4947-dd7f-080857917fb4"
      },
      "source": [
        "# Bucle for en un rango de valores\n",
        "for item in range(6, 12):\n",
        "  print(item)"
      ],
      "execution_count": 21,
      "outputs": [
        {
          "output_type": "stream",
          "name": "stdout",
          "text": [
            "6\n",
            "7\n",
            "8\n",
            "9\n",
            "10\n",
            "11\n"
          ]
        }
      ]
    },
    {
      "cell_type": "code",
      "metadata": {
        "id": "hskUDXYd-fPF",
        "colab": {
          "base_uri": "https://localhost:8080/"
        },
        "outputId": "63d4932a-65aa-48ef-b28b-319d81e4056b"
      },
      "source": [
        "# Bucle en lista\n",
        "[item**2 for item in range(1,10)]"
      ],
      "execution_count": 22,
      "outputs": [
        {
          "output_type": "execute_result",
          "data": {
            "text/plain": [
              "[1, 4, 9, 16, 25, 36, 49, 64, 81]"
            ]
          },
          "metadata": {},
          "execution_count": 22
        }
      ]
    },
    {
      "cell_type": "markdown",
      "metadata": {
        "id": "-9ElsbKP-xvK"
      },
      "source": [
        "##### Bucle While"
      ]
    },
    {
      "cell_type": "code",
      "metadata": {
        "id": "5XyND1LW-zbU",
        "colab": {
          "base_uri": "https://localhost:8080/"
        },
        "outputId": "6b4eba0c-edf8-48bd-cd31-0d86d8888587"
      },
      "source": [
        "# Bucle while\n",
        "i = 1\n",
        "while i<=15:\n",
        "  print(i)\n",
        "  i += 1"
      ],
      "execution_count": 25,
      "outputs": [
        {
          "output_type": "stream",
          "name": "stdout",
          "text": [
            "1\n",
            "2\n",
            "3\n",
            "4\n",
            "5\n",
            "6\n",
            "7\n",
            "8\n",
            "9\n",
            "10\n",
            "11\n",
            "12\n",
            "13\n",
            "14\n",
            "15\n"
          ]
        }
      ]
    },
    {
      "cell_type": "markdown",
      "metadata": {
        "id": "0KASxCEe_dXD"
      },
      "source": [
        "### Funciones"
      ]
    },
    {
      "cell_type": "markdown",
      "metadata": {
        "id": "emrr2xJjhmKd"
      },
      "source": [
        "##### La base de las funciones"
      ]
    },
    {
      "cell_type": "code",
      "metadata": {
        "id": "n01Kh4uE_e-8"
      },
      "source": [
        "# Base de las funciones\n",
        "def my_function(param1,param2,param3):\n",
        "  \"\"\"\n",
        "  Documentación\n",
        "  \"\"\"\n",
        "\n",
        "  return param1+param2+param3"
      ],
      "execution_count": 1,
      "outputs": []
    },
    {
      "cell_type": "code",
      "metadata": {
        "id": "8wzkxoiYNQsz",
        "colab": {
          "base_uri": "https://localhost:8080/"
        },
        "outputId": "69f27e67-7464-4753-ca3a-f6916ccb740e"
      },
      "source": [
        "my_function(1,2,3)"
      ],
      "execution_count": 4,
      "outputs": [
        {
          "output_type": "execute_result",
          "data": {
            "text/plain": [
              "6"
            ]
          },
          "metadata": {},
          "execution_count": 4
        }
      ]
    },
    {
      "cell_type": "code",
      "metadata": {
        "id": "8_wiPu6VAskz"
      },
      "source": [
        "# Valores por defecto\n",
        "def my_function_bis(param1,param2=3,param3=6):\n",
        "  \"\"\"\n",
        "  Documentation\n",
        "  \"\"\"\n",
        "\n",
        "  return param1+param2+param3"
      ],
      "execution_count": 5,
      "outputs": []
    },
    {
      "cell_type": "code",
      "metadata": {
        "id": "x7Re2mAOpYrx",
        "colab": {
          "base_uri": "https://localhost:8080/"
        },
        "outputId": "152c71b1-5d05-4468-c529-942a02429b89"
      },
      "source": [
        "my_function_bis(3)"
      ],
      "execution_count": 9,
      "outputs": [
        {
          "output_type": "execute_result",
          "data": {
            "text/plain": [
              "12"
            ]
          },
          "metadata": {},
          "execution_count": 9
        }
      ]
    },
    {
      "cell_type": "markdown",
      "metadata": {
        "id": "S0TnQtBMfRXB"
      },
      "source": [
        "##### Variable Local"
      ]
    },
    {
      "cell_type": "code",
      "metadata": {
        "id": "bV9cH9ASfUfR",
        "colab": {
          "base_uri": "https://localhost:8080/"
        },
        "outputId": "dd59ac6e-7177-4ad2-fb67-8486cc790b8d"
      },
      "source": [
        "# Variable\n",
        "glo = 50\n",
        "glo"
      ],
      "execution_count": 10,
      "outputs": [
        {
          "output_type": "execute_result",
          "data": {
            "text/plain": [
              "50"
            ]
          },
          "metadata": {},
          "execution_count": 10
        }
      ]
    },
    {
      "cell_type": "code",
      "metadata": {
        "id": "Fbg-A9BkfayT"
      },
      "source": [
        "# Variable Local\n",
        "def my_function():\n",
        "  loc=60\n",
        "  print(glo)"
      ],
      "execution_count": 12,
      "outputs": []
    },
    {
      "cell_type": "code",
      "source": [
        "my_function()"
      ],
      "metadata": {
        "colab": {
          "base_uri": "https://localhost:8080/"
        },
        "id": "670Qa5mrgc8a",
        "outputId": "4601b310-4d51-4586-f18d-440e4b1b2603"
      },
      "execution_count": 13,
      "outputs": [
        {
          "output_type": "stream",
          "name": "stdout",
          "text": [
            "50\n"
          ]
        }
      ]
    },
    {
      "cell_type": "code",
      "metadata": {
        "id": "uAJKN7dxfojT",
        "colab": {
          "base_uri": "https://localhost:8080/",
          "height": 221
        },
        "outputId": "e7ea45de-dda0-4f93-ca6f-e1a3e8ce4fd3"
      },
      "source": [
        "# Error de acceso\n",
        "my_function()\n",
        "\n",
        "print(loc)"
      ],
      "execution_count": 14,
      "outputs": [
        {
          "output_type": "stream",
          "name": "stdout",
          "text": [
            "50\n"
          ]
        },
        {
          "output_type": "error",
          "ename": "NameError",
          "evalue": "ignored",
          "traceback": [
            "\u001b[0;31m---------------------------------------------------------------------------\u001b[0m",
            "\u001b[0;31mNameError\u001b[0m                                 Traceback (most recent call last)",
            "\u001b[0;32m<ipython-input-14-7906f330bac7>\u001b[0m in \u001b[0;36m<module>\u001b[0;34m()\u001b[0m\n\u001b[1;32m      2\u001b[0m \u001b[0mmy_function\u001b[0m\u001b[0;34m(\u001b[0m\u001b[0;34m)\u001b[0m\u001b[0;34m\u001b[0m\u001b[0;34m\u001b[0m\u001b[0m\n\u001b[1;32m      3\u001b[0m \u001b[0;34m\u001b[0m\u001b[0m\n\u001b[0;32m----> 4\u001b[0;31m \u001b[0mprint\u001b[0m\u001b[0;34m(\u001b[0m\u001b[0mloc\u001b[0m\u001b[0;34m)\u001b[0m\u001b[0;34m\u001b[0m\u001b[0;34m\u001b[0m\u001b[0m\n\u001b[0m",
            "\u001b[0;31mNameError\u001b[0m: name 'loc' is not defined"
          ]
        }
      ]
    },
    {
      "cell_type": "markdown",
      "metadata": {
        "id": "F8rax_dDgnFI"
      },
      "source": [
        "##### Variable Global"
      ]
    },
    {
      "cell_type": "code",
      "metadata": {
        "id": "7330M1h4gpnQ"
      },
      "source": [
        "#  Variable  Global\n",
        "def my_function():\n",
        "  global variable\n",
        "  variable=15"
      ],
      "execution_count": 18,
      "outputs": []
    },
    {
      "cell_type": "code",
      "metadata": {
        "id": "LgzzqLCDgp-M"
      },
      "source": [
        "# Ejecutar la función e imprimir el valor de la variable global\n",
        "my_function()"
      ],
      "execution_count": 19,
      "outputs": []
    },
    {
      "cell_type": "code",
      "metadata": {
        "colab": {
          "base_uri": "https://localhost:8080/"
        },
        "id": "KFEQ7BB-2m5g",
        "outputId": "20f93ce8-b84d-4272-fff6-c66eb322f61c"
      },
      "source": [
        "print(variable)"
      ],
      "execution_count": 20,
      "outputs": [
        {
          "output_type": "stream",
          "name": "stdout",
          "text": [
            "15\n"
          ]
        }
      ]
    },
    {
      "cell_type": "markdown",
      "metadata": {
        "id": "4NWfx4mRhpgX"
      },
      "source": [
        "##### Lambda"
      ]
    },
    {
      "cell_type": "code",
      "metadata": {
        "id": "mhxlEyFthuQa"
      },
      "source": [
        "# Crear un objeto lambda\n",
        "f = lambda x: x**2"
      ],
      "execution_count": 21,
      "outputs": []
    },
    {
      "cell_type": "code",
      "metadata": {
        "id": "NFQxwMIWh-B_",
        "colab": {
          "base_uri": "https://localhost:8080/"
        },
        "outputId": "d420dfad-4246-4264-990b-bf0e93ed30da"
      },
      "source": [
        "# Crear una lista para aplicar una función lambda\n",
        "lis = [1,2,3,4,5,6,7,8]\n",
        "\n",
        "# Usar la función map para aplicar la función lambda a una lista\n",
        "generator = map(f,lis)\n",
        "generator"
      ],
      "execution_count": 23,
      "outputs": [
        {
          "output_type": "execute_result",
          "data": {
            "text/plain": [
              "<map at 0x7f3e8ff27210>"
            ]
          },
          "metadata": {},
          "execution_count": 23
        }
      ]
    },
    {
      "cell_type": "code",
      "metadata": {
        "id": "_AX5enMai7O-",
        "colab": {
          "base_uri": "https://localhost:8080/"
        },
        "outputId": "47555d4d-c771-4652-c5a2-3f07db4e3ff8"
      },
      "source": [
        "# La transformamos en una lista\n",
        "list(generator)"
      ],
      "execution_count": 24,
      "outputs": [
        {
          "output_type": "execute_result",
          "data": {
            "text/plain": [
              "[1, 4, 9, 16, 25, 36, 49, 64]"
            ]
          },
          "metadata": {},
          "execution_count": 24
        }
      ]
    },
    {
      "cell_type": "code",
      "metadata": {
        "id": "bWRIV_RZ4cBs"
      },
      "source": [
        ""
      ],
      "execution_count": null,
      "outputs": []
    }
  ]
}